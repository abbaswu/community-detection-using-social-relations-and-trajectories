{
 "cells": [
  {
   "cell_type": "code",
   "execution_count": 1,
   "id": "dbc4f15d-a723-45b8-bb2c-541f673f1daa",
   "metadata": {},
   "outputs": [],
   "source": [
    "import networkx as nx"
   ]
  },
  {
   "cell_type": "code",
   "execution_count": 2,
   "id": "3e667562-71e6-478c-bf3c-f52c45b0e70d",
   "metadata": {},
   "outputs": [],
   "source": [
    "dataset='brightkite'"
   ]
  },
  {
   "cell_type": "code",
   "execution_count": 3,
   "id": "7c7e4e4d-0e8e-46c6-8c75-e4985a8b637d",
   "metadata": {},
   "outputs": [],
   "source": [
    "k=3"
   ]
  },
  {
   "cell_type": "code",
   "execution_count": 4,
   "id": "a6ea5a9c-0211-4ba1-8f79-11684fa3e68e",
   "metadata": {},
   "outputs": [],
   "source": [
    "k_core=nx.read_adjlist(f'k_cores/{dataset}/{k}')"
   ]
  },
  {
   "cell_type": "code",
   "execution_count": 5,
   "id": "80c529c4-7425-4ab7-b3eb-da3d38a2ac26",
   "metadata": {},
   "outputs": [],
   "source": [
    "import glob"
   ]
  },
  {
   "cell_type": "code",
   "execution_count": 6,
   "id": "4a141e0d-a50f-4494-a711-84107cdcd36e",
   "metadata": {},
   "outputs": [],
   "source": [
    "import math"
   ]
  },
  {
   "cell_type": "code",
   "execution_count": 7,
   "id": "77df6f76-2762-4d5f-ab7f-af284a7f4833",
   "metadata": {},
   "outputs": [],
   "source": [
    "import os"
   ]
  },
  {
   "cell_type": "code",
   "execution_count": 8,
   "id": "ad941fc1-25d9-488e-b619-6efcee0fea99",
   "metadata": {},
   "outputs": [],
   "source": [
    "import os.path"
   ]
  },
  {
   "cell_type": "code",
   "execution_count": 9,
   "id": "54eb54e6-e682-4c02-ba82-74233f641df3",
   "metadata": {},
   "outputs": [],
   "source": [
    "detected_communities_filepath_list = glob.glob(f'detected_communities/{dataset}/{k}/*')"
   ]
  },
  {
   "cell_type": "code",
   "execution_count": 10,
   "id": "a008e3b2-14e5-4219-beba-72cae336ce45",
   "metadata": {},
   "outputs": [],
   "source": [
    "m_values = [\n",
    "    int(string_value)\n",
    "    for string_value in os.listdir(f'detected_communities/{dataset}/{k}')\n",
    "]"
   ]
  },
  {
   "cell_type": "code",
   "execution_count": 11,
   "id": "57c279ca-5f82-46b7-88ce-fa26a6fab3c6",
   "metadata": {},
   "outputs": [],
   "source": [
    "m_values_to_detected_communities = {}\n",
    "\n",
    "for m_value in sorted(m_values):\n",
    "    detected_community = nx.read_adjlist(f'detected_communities/{dataset}/{k}/{m_value}')\n",
    "    if len(detected_community.nodes):\n",
    "        m_values_to_detected_communities[m_value] = detected_community\n",
    "\n",
    "m_values_to_detected_communities[math.inf] = k_core"
   ]
  },
  {
   "cell_type": "code",
   "execution_count": 12,
   "id": "19ce035d-0bf1-4382-b771-962be6821242",
   "metadata": {},
   "outputs": [
    {
     "data": {
      "text/plain": [
       "{4: <networkx.classes.graph.Graph at 0x7f623817f150>,\n",
       " 6: <networkx.classes.graph.Graph at 0x7f623817f190>,\n",
       " 8: <networkx.classes.graph.Graph at 0x7f623817f050>,\n",
       " 10: <networkx.classes.graph.Graph at 0x7f62381ae310>,\n",
       " 12: <networkx.classes.graph.Graph at 0x7f623812a5d0>,\n",
       " 14: <networkx.classes.graph.Graph at 0x7f6223fc7a90>,\n",
       " 16: <networkx.classes.graph.Graph at 0x7f6223eeaf10>,\n",
       " 18: <networkx.classes.graph.Graph at 0x7f6223d4dcd0>,\n",
       " 20: <networkx.classes.graph.Graph at 0x7f6223be76d0>,\n",
       " 22: <networkx.classes.graph.Graph at 0x7f6223a33150>,\n",
       " 24: <networkx.classes.graph.Graph at 0x7f6223825350>,\n",
       " 26: <networkx.classes.graph.Graph at 0x7f62235c4c10>,\n",
       " 28: <networkx.classes.graph.Graph at 0x7f6223389fd0>,\n",
       " inf: <networkx.classes.graph.Graph at 0x7f62386db950>}"
      ]
     },
     "execution_count": 12,
     "metadata": {},
     "output_type": "execute_result"
    }
   ],
   "source": [
    "m_values_to_detected_communities"
   ]
  },
  {
   "cell_type": "code",
   "execution_count": 13,
   "id": "09ef5e84-3280-49f5-a571-1170b3bec034",
   "metadata": {},
   "outputs": [],
   "source": [
    "import matplotlib.pyplot as plt"
   ]
  },
  {
   "cell_type": "code",
   "execution_count": 14,
   "id": "88366dae-c4a1-4088-8809-a2148f94f7ac",
   "metadata": {},
   "outputs": [],
   "source": [
    "plt.rcParams['font.size'] = 8"
   ]
  },
  {
   "cell_type": "code",
   "execution_count": 15,
   "id": "3d46c882-d816-4140-b690-ba9a2a3a6d7b",
   "metadata": {},
   "outputs": [
    {
     "data": {
      "text/plain": [
       "[Text(0, 0, '14'),\n",
       " Text(0, 0, '80'),\n",
       " Text(0, 0, '364'),\n",
       " Text(0, 0, '556'),\n",
       " Text(0, 0, '699'),\n",
       " Text(0, 0, '792'),\n",
       " Text(0, 0, '869'),\n",
       " Text(0, 0, '915'),\n",
       " Text(0, 0, '940'),\n",
       " Text(0, 0, '979'),\n",
       " Text(0, 0, '1002'),\n",
       " Text(0, 0, '1021'),\n",
       " Text(0, 0, '1033'),\n",
       " Text(0, 0, '1212')]"
      ]
     },
     "execution_count": 15,
     "metadata": {},
     "output_type": "execute_result"
    },
    {
     "data": {
      "image/png": "[encoded data removed]",
      "text/plain": [
       "<Figure size 432x288 with 1 Axes>"
      ]
     },
     "metadata": {
      "needs_background": "light"
     },
     "output_type": "display_data"
    }
   ],
   "source": [
    "figure, axes=plt.subplots()\n",
    "\n",
    "bars = axes.bar(\n",
    "    x=list(range(len(m_values_to_detected_communities))),\n",
    "    height=[len(g) for g in m_values_to_detected_communities.values()],\n",
    "    tick_label=list(m_values_to_detected_communities.keys())\n",
    ")\n",
    "\n",
    "axes.bar_label(bars, fmt='%d')"
   ]
  },
  {
   "cell_type": "code",
   "execution_count": 16,
   "id": "d0952c06-daeb-44c9-b049-c0ec7249a2a2",
   "metadata": {},
   "outputs": [],
   "source": [
    "figure.savefig(f'{dataset}-{k}-m_values_to_sizes.pdf')"
   ]
  },
  {
   "cell_type": "code",
   "execution_count": null,
   "id": "0d434f61-3c4d-4514-a4db-b97488cff890",
   "metadata": {},
   "outputs": [],
   "source": []
  }
 ],
 "metadata": {
  "kernelspec": {
   "display_name": "Python 3 (ipykernel)",
   "language": "python",
   "name": "python3"
  },
  "language_info": {
   "codemirror_mode": {
    "name": "ipython",
    "version": 3
   },
   "file_extension": ".py",
   "mimetype": "text/x-python",
   "name": "python",
   "nbconvert_exporter": "python",
   "pygments_lexer": "ipython3",
   "version": "3.7.12"
  }
 },
 "nbformat": 4,
 "nbformat_minor": 5
}
