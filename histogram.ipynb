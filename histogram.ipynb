{
 "cells": [
  {
   "cell_type": "code",
   "execution_count": 1,
   "id": "38240ed6-be69-45a4-9a62-e4216b0ea382",
   "metadata": {},
   "outputs": [],
   "source": [
    "import pandas as pd"
   ]
  },
  {
   "cell_type": "code",
   "execution_count": 2,
   "id": "984e0cc7-13f9-4f98-ab07-3ac7238e8a0d",
   "metadata": {},
   "outputs": [],
   "source": [
    "dataset='brightkite'"
   ]
  },
  {
   "cell_type": "code",
   "execution_count": 3,
   "id": "c43e5043-c612-444a-bee9-0d09f7e26acd",
   "metadata": {},
   "outputs": [],
   "source": [
    "df = pd.read_csv(f'pairwise_similarities/{dataset}')"
   ]
  },
  {
   "cell_type": "code",
   "execution_count": 4,
   "id": "26ece9e6-c95a-4c06-b176-10e8fa36f22b",
   "metadata": {},
   "outputs": [
    {
     "data": {
      "text/html": [
       "<div>\n",
       "<style scoped>\n",
       "    .dataframe tbody tr th:only-of-type {\n",
       "        vertical-align: middle;\n",
       "    }\n",
       "\n",
       "    .dataframe tbody tr th {\n",
       "        vertical-align: top;\n",
       "    }\n",
       "\n",
       "    .dataframe thead th {\n",
       "        text-align: right;\n",
       "    }\n",
       "</style>\n",
       "<table border=\"1\" class=\"dataframe\">\n",
       "  <thead>\n",
       "    <tr style=\"text-align: right;\">\n",
       "      <th></th>\n",
       "      <th>first_user</th>\n",
       "      <th>second_user</th>\n",
       "      <th>similarity</th>\n",
       "    </tr>\n",
       "  </thead>\n",
       "  <tbody>\n",
       "    <tr>\n",
       "      <th>0</th>\n",
       "      <td>57502</td>\n",
       "      <td>54268</td>\n",
       "      <td>1.682980e-02</td>\n",
       "    </tr>\n",
       "    <tr>\n",
       "      <th>1</th>\n",
       "      <td>57502</td>\n",
       "      <td>55360</td>\n",
       "      <td>2.402320e-12</td>\n",
       "    </tr>\n",
       "    <tr>\n",
       "      <th>2</th>\n",
       "      <td>57502</td>\n",
       "      <td>43053</td>\n",
       "      <td>4.779080e-274</td>\n",
       "    </tr>\n",
       "    <tr>\n",
       "      <th>3</th>\n",
       "      <td>57502</td>\n",
       "      <td>40938</td>\n",
       "      <td>0.000000e+00</td>\n",
       "    </tr>\n",
       "    <tr>\n",
       "      <th>4</th>\n",
       "      <td>57502</td>\n",
       "      <td>28888</td>\n",
       "      <td>1.053660e-04</td>\n",
       "    </tr>\n",
       "    <tr>\n",
       "      <th>...</th>\n",
       "      <td>...</td>\n",
       "      <td>...</td>\n",
       "      <td>...</td>\n",
       "    </tr>\n",
       "    <tr>\n",
       "      <th>1383611</th>\n",
       "      <td>101</td>\n",
       "      <td>7263</td>\n",
       "      <td>0.000000e+00</td>\n",
       "    </tr>\n",
       "    <tr>\n",
       "      <th>1383612</th>\n",
       "      <td>101</td>\n",
       "      <td>6</td>\n",
       "      <td>5.568400e-09</td>\n",
       "    </tr>\n",
       "    <tr>\n",
       "      <th>1383613</th>\n",
       "      <td>32</td>\n",
       "      <td>7263</td>\n",
       "      <td>9.681360e-296</td>\n",
       "    </tr>\n",
       "    <tr>\n",
       "      <th>1383614</th>\n",
       "      <td>32</td>\n",
       "      <td>6</td>\n",
       "      <td>2.239150e-20</td>\n",
       "    </tr>\n",
       "    <tr>\n",
       "      <th>1383615</th>\n",
       "      <td>7263</td>\n",
       "      <td>6</td>\n",
       "      <td>4.043720e-25</td>\n",
       "    </tr>\n",
       "  </tbody>\n",
       "</table>\n",
       "<p>1383616 rows × 3 columns</p>\n",
       "</div>"
      ],
      "text/plain": [
       "         first_user  second_user     similarity\n",
       "0             57502        54268   1.682980e-02\n",
       "1             57502        55360   2.402320e-12\n",
       "2             57502        43053  4.779080e-274\n",
       "3             57502        40938   0.000000e+00\n",
       "4             57502        28888   1.053660e-04\n",
       "...             ...          ...            ...\n",
       "1383611         101         7263   0.000000e+00\n",
       "1383612         101            6   5.568400e-09\n",
       "1383613          32         7263  9.681360e-296\n",
       "1383614          32            6   2.239150e-20\n",
       "1383615        7263            6   4.043720e-25\n",
       "\n",
       "[1383616 rows x 3 columns]"
      ]
     },
     "execution_count": 4,
     "metadata": {},
     "output_type": "execute_result"
    }
   ],
   "source": [
    "df"
   ]
  },
  {
   "cell_type": "code",
   "execution_count": 5,
   "id": "cbe9931d-7021-4123-ab0d-f0c4768a05a2",
   "metadata": {},
   "outputs": [],
   "source": [
    "from array import array"
   ]
  },
  {
   "cell_type": "code",
   "execution_count": 6,
   "id": "4fe033d4-429e-440c-b400-64358c686d78",
   "metadata": {},
   "outputs": [],
   "source": [
    "import more_itertools"
   ]
  },
  {
   "cell_type": "code",
   "execution_count": 7,
   "id": "da47455a-9fe7-4c34-8c8e-540276030afb",
   "metadata": {},
   "outputs": [],
   "source": [
    "import matplotlib.pyplot as plt"
   ]
  },
  {
   "cell_type": "code",
   "execution_count": 8,
   "id": "cd9bfabf-2c86-4259-bcdd-0622f20cb6d3",
   "metadata": {},
   "outputs": [],
   "source": [
    "similarities = df['similarity'].values"
   ]
  },
  {
   "cell_type": "code",
   "execution_count": 9,
   "id": "6a7cbd11-a918-4194-ae68-26b877b27082",
   "metadata": {},
   "outputs": [],
   "source": [
    "similarities.sort()"
   ]
  },
  {
   "cell_type": "code",
   "execution_count": 10,
   "id": "e511a573-1006-4b7b-a1cc-bda8c8e6c4d9",
   "metadata": {},
   "outputs": [
    {
     "data": {
      "text/plain": [
       "(array([1.370067e+06, 6.532000e+03, 2.904000e+03, 1.519000e+03,\n",
       "        8.760000e+02, 5.680000e+02, 3.440000e+02, 2.320000e+02,\n",
       "        1.630000e+02, 1.140000e+02, 7.300000e+01, 4.500000e+01,\n",
       "        3.700000e+01, 2.900000e+01, 1.900000e+01, 1.700000e+01,\n",
       "        1.000000e+01, 1.700000e+01, 8.000000e+00, 1.200000e+01,\n",
       "        3.000000e+00, 4.000000e+00, 2.000000e+00, 6.000000e+00,\n",
       "        4.000000e+00, 1.000000e+00, 0.000000e+00, 1.000000e+00,\n",
       "        0.000000e+00, 2.000000e+00, 3.000000e+00, 1.000000e+00,\n",
       "        0.000000e+00, 0.000000e+00, 0.000000e+00, 0.000000e+00,\n",
       "        0.000000e+00, 0.000000e+00, 0.000000e+00, 1.000000e+00,\n",
       "        0.000000e+00, 0.000000e+00, 0.000000e+00, 0.000000e+00,\n",
       "        0.000000e+00, 0.000000e+00, 0.000000e+00, 0.000000e+00,\n",
       "        0.000000e+00, 0.000000e+00, 0.000000e+00, 0.000000e+00,\n",
       "        0.000000e+00, 0.000000e+00, 1.000000e+00, 0.000000e+00,\n",
       "        0.000000e+00, 0.000000e+00, 0.000000e+00, 0.000000e+00,\n",
       "        0.000000e+00, 0.000000e+00, 0.000000e+00, 1.000000e+00]),\n",
       " array([0.        , 0.0095792 , 0.01915841, 0.02873761, 0.03831681,\n",
       "        0.04789602, 0.05747522, 0.06705442, 0.07663362, 0.08621283,\n",
       "        0.09579203, 0.10537123, 0.11495044, 0.12452964, 0.13410884,\n",
       "        0.14368805, 0.15326725, 0.16284645, 0.17242566, 0.18200486,\n",
       "        0.19158406, 0.20116327, 0.21074247, 0.22032167, 0.22990088,\n",
       "        0.23948008, 0.24905928, 0.25863848, 0.26821769, 0.27779689,\n",
       "        0.28737609, 0.2969553 , 0.3065345 , 0.3161137 , 0.32569291,\n",
       "        0.33527211, 0.34485131, 0.35443052, 0.36400972, 0.37358892,\n",
       "        0.38316812, 0.39274733, 0.40232653, 0.41190573, 0.42148494,\n",
       "        0.43106414, 0.44064334, 0.45022255, 0.45980175, 0.46938095,\n",
       "        0.47896016, 0.48853936, 0.49811856, 0.50769777, 0.51727697,\n",
       "        0.52685617, 0.53643537, 0.54601458, 0.55559378, 0.56517298,\n",
       "        0.57475219, 0.58433139, 0.59391059, 0.6034898 , 0.613069  ]),\n",
       " <BarContainer object of 64 artists>)"
      ]
     },
     "execution_count": 10,
     "metadata": {},
     "output_type": "execute_result"
    },
    {
     "data": {
      "image/png": "[encoded data removed]",
      "text/plain": [
       "<Figure size 432x288 with 1 Axes>"
      ]
     },
     "metadata": {
      "needs_background": "light"
     },
     "output_type": "display_data"
    }
   ],
   "source": [
    "figure, axes=plt.subplots()\n",
    "\n",
    "axes.hist(\n",
    "    similarities,\n",
    "    log=True,\n",
    "    bins=64\n",
    ")"
   ]
  },
  {
   "cell_type": "code",
   "execution_count": 11,
   "id": "7fcc94d6-848c-430b-9c44-89e8b746d817",
   "metadata": {},
   "outputs": [],
   "source": [
    "figure.savefig(f'{dataset}-histogram.pdf')"
   ]
  },
  {
   "cell_type": "code",
   "execution_count": null,
   "id": "c2336f02-a736-4845-bd5d-455225657137",
   "metadata": {},
   "outputs": [],
   "source": []
  }
 ],
 "metadata": {
  "kernelspec": {
   "display_name": "Python 3 (ipykernel)",
   "language": "python",
   "name": "python3"
  },
  "language_info": {
   "codemirror_mode": {
    "name": "ipython",
    "version": 3
   },
   "file_extension": ".py",
   "mimetype": "text/x-python",
   "name": "python",
   "nbconvert_exporter": "python",
   "pygments_lexer": "ipython3",
   "version": "3.7.12"
  }
 },
 "nbformat": 4,
 "nbformat_minor": 5
}
