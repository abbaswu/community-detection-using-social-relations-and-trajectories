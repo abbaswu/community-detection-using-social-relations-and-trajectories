{
 "cells": [
  {
   "cell_type": "code",
   "execution_count": 1,
   "id": "068bb6ae",
   "metadata": {},
   "outputs": [],
   "source": [
    "from trajectory_pairwise_similarity_dataset import *"
   ]
  },
  {
   "cell_type": "code",
   "execution_count": 2,
   "id": "d1235c40",
   "metadata": {},
   "outputs": [],
   "source": [
    "import networkx as nx"
   ]
  },
  {
   "cell_type": "code",
   "execution_count": 3,
   "id": "3a9a78a9",
   "metadata": {},
   "outputs": [],
   "source": [
    "dataset='brightkite'"
   ]
  },
  {
   "cell_type": "code",
   "execution_count": 4,
   "id": "2fd0f8ec",
   "metadata": {},
   "outputs": [],
   "source": [
    "k=3"
   ]
  },
  {
   "cell_type": "code",
   "execution_count": 5,
   "id": "4742abfb",
   "metadata": {},
   "outputs": [],
   "source": [
    "k_core=nx.read_adjlist(f'k_cores/{dataset}/{k}')"
   ]
  },
  {
   "cell_type": "code",
   "execution_count": 6,
   "id": "7758a173",
   "metadata": {},
   "outputs": [],
   "source": [
    "trajectory_pairwise_similarity_dataset=TrajectoryPairwiseSimilarityDataset(\n",
    "    k_core.nodes,\n",
    "    f'pairwise_similarities/{dataset}'\n",
    ")"
   ]
  },
  {
   "cell_type": "code",
   "execution_count": 7,
   "id": "e38767d3",
   "metadata": {},
   "outputs": [],
   "source": [
    "import math"
   ]
  },
  {
   "cell_type": "code",
   "execution_count": 8,
   "id": "e0e1de7a",
   "metadata": {},
   "outputs": [],
   "source": [
    "import glob"
   ]
  },
  {
   "cell_type": "code",
   "execution_count": 9,
   "id": "1d6ef0b0",
   "metadata": {},
   "outputs": [],
   "source": [
    "import os"
   ]
  },
  {
   "cell_type": "code",
   "execution_count": 10,
   "id": "aebb6da5",
   "metadata": {},
   "outputs": [],
   "source": [
    "import os.path"
   ]
  },
  {
   "cell_type": "code",
   "execution_count": 11,
   "id": "2d2d1b15",
   "metadata": {},
   "outputs": [],
   "source": [
    "detected_communities_filepath_list = glob.glob(f'detected_communities/{dataset}/{k}/*')"
   ]
  },
  {
   "cell_type": "code",
   "execution_count": 12,
   "id": "46f29953",
   "metadata": {},
   "outputs": [],
   "source": [
    "m_values = [\n",
    "    int(string_value)\n",
    "    for string_value in os.listdir(f'detected_communities/{dataset}/{k}')\n",
    "]"
   ]
  },
  {
   "cell_type": "code",
   "execution_count": 13,
   "id": "ae9170ee",
   "metadata": {},
   "outputs": [],
   "source": [
    "m_values_to_detected_communities = {}\n",
    "\n",
    "for m_value in sorted(m_values):\n",
    "    detected_community = nx.read_adjlist(f'detected_communities/{dataset}/{k}/{m_value}')\n",
    "    if len(detected_community.nodes):\n",
    "        m_values_to_detected_communities[m_value] = detected_community"
   ]
  },
  {
   "cell_type": "code",
   "execution_count": 14,
   "id": "00579040",
   "metadata": {},
   "outputs": [],
   "source": [
    "m_values_to_detected_communities[math.inf] = k_core"
   ]
  },
  {
   "cell_type": "code",
   "execution_count": 15,
   "id": "f7211a76",
   "metadata": {},
   "outputs": [
    {
     "data": {
      "text/plain": [
       "{4: <networkx.classes.graph.Graph at 0x7f9e26297f10>,\n",
       " 6: <networkx.classes.graph.Graph at 0x7f9e26297f50>,\n",
       " 8: <networkx.classes.graph.Graph at 0x7f9e26297f90>,\n",
       " 10: <networkx.classes.graph.Graph at 0x7f9e262946d0>,\n",
       " 12: <networkx.classes.graph.Graph at 0x7f9e25c1d410>,\n",
       " 14: <networkx.classes.graph.Graph at 0x7f9e25b748d0>,\n",
       " 16: <networkx.classes.graph.Graph at 0x7f9e25a17d50>,\n",
       " 18: <networkx.classes.graph.Graph at 0x7f9e258fab10>,\n",
       " 20: <networkx.classes.graph.Graph at 0x7f9e25715510>,\n",
       " 22: <networkx.classes.graph.Graph at 0x7f9e2555df50>,\n",
       " 24: <networkx.classes.graph.Graph at 0x7f9e25351190>,\n",
       " 26: <networkx.classes.graph.Graph at 0x7f9e25171a50>,\n",
       " 28: <networkx.classes.graph.Graph at 0x7f9e24f36e10>,\n",
       " inf: <networkx.classes.graph.Graph at 0x7f9e267dc2d0>}"
      ]
     },
     "execution_count": 15,
     "metadata": {},
     "output_type": "execute_result"
    }
   ],
   "source": [
    "m_values_to_detected_communities"
   ]
  },
  {
   "cell_type": "code",
   "execution_count": 16,
   "id": "6f033f1b",
   "metadata": {},
   "outputs": [],
   "source": [
    "import matplotlib.pyplot as plt"
   ]
  },
  {
   "cell_type": "code",
   "execution_count": 17,
   "id": "4c1d40e0",
   "metadata": {},
   "outputs": [],
   "source": [
    "import itertools"
   ]
  },
  {
   "cell_type": "code",
   "execution_count": 18,
   "id": "d6226f22",
   "metadata": {},
   "outputs": [],
   "source": [
    "import array"
   ]
  },
  {
   "cell_type": "code",
   "execution_count": 19,
   "id": "706bd94b-da19-4ab0-9d79-bde7f88fb95f",
   "metadata": {},
   "outputs": [],
   "source": [
    "import numpy as np"
   ]
  },
  {
   "cell_type": "code",
   "execution_count": 20,
   "id": "3a751ee0",
   "metadata": {},
   "outputs": [],
   "source": [
    "m_values_to_pairwise_similarities = {\n",
    "    m_value: \n",
    "    np.fromiter(\n",
    "        (\n",
    "            trajectory_pairwise_similarity_dataset.pairwise_similarity(first_vertex, second_vertex)\n",
    "            for connected_component in nx.connected_components(\n",
    "                detected_community\n",
    "            )\n",
    "            for first_vertex, second_vertex in itertools.combinations(\n",
    "                connected_component,\n",
    "                2\n",
    "            )\n",
    "        ),\n",
    "        float\n",
    "    )\n",
    "    for m_value, detected_community\n",
    "    in m_values_to_detected_communities.items()\n",
    "}"
   ]
  },
  {
   "cell_type": "code",
   "execution_count": 21,
   "id": "9214c3b6-8fa4-45ac-b8f7-ac671a77c253",
   "metadata": {},
   "outputs": [],
   "source": [
    "for m_value in m_values_to_pairwise_similarities:\n",
    "    m_values_to_pairwise_similarities[m_value] **= 0.5"
   ]
  },
  {
   "cell_type": "code",
   "execution_count": 22,
   "id": "d2debcf8",
   "metadata": {
    "scrolled": true
   },
   "outputs": [
    {
     "data": {
      "text/plain": [
       "{'whiskers': [<matplotlib.lines.Line2D at 0x7f9e226f5890>,\n",
       "  <matplotlib.lines.Line2D at 0x7f9e226f5bd0>,\n",
       "  <matplotlib.lines.Line2D at 0x7f9e22706c90>,\n",
       "  <matplotlib.lines.Line2D at 0x7f9e22713050>,\n",
       "  <matplotlib.lines.Line2D at 0x7f9e226a1050>,\n",
       "  <matplotlib.lines.Line2D at 0x7f9e226a13d0>,\n",
       "  <matplotlib.lines.Line2D at 0x7f9e226ad490>,\n",
       "  <matplotlib.lines.Line2D at 0x7f9e226ad7d0>,\n",
       "  <matplotlib.lines.Line2D at 0x7f9e226ba8d0>,\n",
       "  <matplotlib.lines.Line2D at 0x7f9e226babd0>,\n",
       "  <matplotlib.lines.Line2D at 0x7f9e226c7c50>,\n",
       "  <matplotlib.lines.Line2D at 0x7f9e226c7f90>,\n",
       "  <matplotlib.lines.Line2D at 0x7f9e22660050>,\n",
       "  <matplotlib.lines.Line2D at 0x7f9e22660390>,\n",
       "  <matplotlib.lines.Line2D at 0x7f9e2266e410>,\n",
       "  <matplotlib.lines.Line2D at 0x7f9e2266e750>,\n",
       "  <matplotlib.lines.Line2D at 0x7f9e2267d750>,\n",
       "  <matplotlib.lines.Line2D at 0x7f9e2267da90>,\n",
       "  <matplotlib.lines.Line2D at 0x7f9e2268cad0>,\n",
       "  <matplotlib.lines.Line2D at 0x7f9e2268ce10>,\n",
       "  <matplotlib.lines.Line2D at 0x7f9e22697e90>,\n",
       "  <matplotlib.lines.Line2D at 0x7f9e22622210>,\n",
       "  <matplotlib.lines.Line2D at 0x7f9e22630290>,\n",
       "  <matplotlib.lines.Line2D at 0x7f9e226305d0>,\n",
       "  <matplotlib.lines.Line2D at 0x7f9e2263d550>,\n",
       "  <matplotlib.lines.Line2D at 0x7f9e2263d890>,\n",
       "  <matplotlib.lines.Line2D at 0x7f9e2264a910>,\n",
       "  <matplotlib.lines.Line2D at 0x7f9e64271250>],\n",
       " 'caps': [<matplotlib.lines.Line2D at 0x7f9e226f5f10>,\n",
       "  <matplotlib.lines.Line2D at 0x7f9e22706290>,\n",
       "  <matplotlib.lines.Line2D at 0x7f9e22713310>,\n",
       "  <matplotlib.lines.Line2D at 0x7f9e22713650>,\n",
       "  <matplotlib.lines.Line2D at 0x7f9e226a1710>,\n",
       "  <matplotlib.lines.Line2D at 0x7f9e226a1a90>,\n",
       "  <matplotlib.lines.Line2D at 0x7f9e226adb10>,\n",
       "  <matplotlib.lines.Line2D at 0x7f9e226ade50>,\n",
       "  <matplotlib.lines.Line2D at 0x7f9e226baf10>,\n",
       "  <matplotlib.lines.Line2D at 0x7f9e226c7250>,\n",
       "  <matplotlib.lines.Line2D at 0x7f9e226d3310>,\n",
       "  <matplotlib.lines.Line2D at 0x7f9e226d3650>,\n",
       "  <matplotlib.lines.Line2D at 0x7f9e226606d0>,\n",
       "  <matplotlib.lines.Line2D at 0x7f9e22660a10>,\n",
       "  <matplotlib.lines.Line2D at 0x7f9e2266ea90>,\n",
       "  <matplotlib.lines.Line2D at 0x7f9e2266edd0>,\n",
       "  <matplotlib.lines.Line2D at 0x7f9e2267ddd0>,\n",
       "  <matplotlib.lines.Line2D at 0x7f9e2268c150>,\n",
       "  <matplotlib.lines.Line2D at 0x7f9e22697190>,\n",
       "  <matplotlib.lines.Line2D at 0x7f9e226974d0>,\n",
       "  <matplotlib.lines.Line2D at 0x7f9e22622550>,\n",
       "  <matplotlib.lines.Line2D at 0x7f9e22622890>,\n",
       "  <matplotlib.lines.Line2D at 0x7f9e22630910>,\n",
       "  <matplotlib.lines.Line2D at 0x7f9e22630b50>,\n",
       "  <matplotlib.lines.Line2D at 0x7f9e2263dbd0>,\n",
       "  <matplotlib.lines.Line2D at 0x7f9e2263df10>,\n",
       "  <matplotlib.lines.Line2D at 0x7f9e2264ac50>,\n",
       "  <matplotlib.lines.Line2D at 0x7f9e2264af90>],\n",
       " 'boxes': [<matplotlib.lines.Line2D at 0x7f9e22c6da90>,\n",
       "  <matplotlib.lines.Line2D at 0x7f9e22706950>,\n",
       "  <matplotlib.lines.Line2D at 0x7f9e22713cd0>,\n",
       "  <matplotlib.lines.Line2D at 0x7f9e226ad150>,\n",
       "  <matplotlib.lines.Line2D at 0x7f9e226ba550>,\n",
       "  <matplotlib.lines.Line2D at 0x7f9e226c7910>,\n",
       "  <matplotlib.lines.Line2D at 0x7f9e226d3cd0>,\n",
       "  <matplotlib.lines.Line2D at 0x7f9e2266e0d0>,\n",
       "  <matplotlib.lines.Line2D at 0x7f9e2267d450>,\n",
       "  <matplotlib.lines.Line2D at 0x7f9e2268c790>,\n",
       "  <matplotlib.lines.Line2D at 0x7f9e22697b50>,\n",
       "  <matplotlib.lines.Line2D at 0x7f9e22622f10>,\n",
       "  <matplotlib.lines.Line2D at 0x7f9e2263d210>,\n",
       "  <matplotlib.lines.Line2D at 0x7f9e2264a5d0>],\n",
       " 'medians': [<matplotlib.lines.Line2D at 0x7f9e22706610>,\n",
       "  <matplotlib.lines.Line2D at 0x7f9e22713990>,\n",
       "  <matplotlib.lines.Line2D at 0x7f9e226a1dd0>,\n",
       "  <matplotlib.lines.Line2D at 0x7f9e226ba1d0>,\n",
       "  <matplotlib.lines.Line2D at 0x7f9e226c7590>,\n",
       "  <matplotlib.lines.Line2D at 0x7f9e226d3990>,\n",
       "  <matplotlib.lines.Line2D at 0x7f9e22660d50>,\n",
       "  <matplotlib.lines.Line2D at 0x7f9e2267d150>,\n",
       "  <matplotlib.lines.Line2D at 0x7f9e2268c490>,\n",
       "  <matplotlib.lines.Line2D at 0x7f9e22697810>,\n",
       "  <matplotlib.lines.Line2D at 0x7f9e22622bd0>,\n",
       "  <matplotlib.lines.Line2D at 0x7f9e22630e90>,\n",
       "  <matplotlib.lines.Line2D at 0x7f9e2264a290>,\n",
       "  <matplotlib.lines.Line2D at 0x7f9e225d9310>],\n",
       " 'fliers': [],\n",
       " 'means': []}"
      ]
     },
     "execution_count": 22,
     "metadata": {},
     "output_type": "execute_result"
    },
    {
     "data": {
      "image/png": "[encoded data removed]",
      "text/plain": [
       "<Figure size 432x288 with 1 Axes>"
      ]
     },
     "metadata": {
      "needs_background": "light"
     },
     "output_type": "display_data"
    }
   ],
   "source": [
    "figure, axes=plt.subplots()\n",
    "\n",
    "axes.boxplot(\n",
    "    m_values_to_pairwise_similarities.values(),\n",
    "    labels=m_values_to_pairwise_similarities.keys(),\n",
    "    sym=''\n",
    ")"
   ]
  },
  {
   "cell_type": "code",
   "execution_count": 23,
   "id": "27a968fe",
   "metadata": {},
   "outputs": [],
   "source": [
    "figure.savefig(f'{dataset}-{k}-m_values_to_pairwise_similarities.pdf')"
   ]
  },
  {
   "cell_type": "code",
   "execution_count": null,
   "id": "c5a20bc8",
   "metadata": {},
   "outputs": [],
   "source": []
  }
 ],
 "metadata": {
  "kernelspec": {
   "display_name": "Python 3 (ipykernel)",
   "language": "python",
   "name": "python3"
  },
  "language_info": {
   "codemirror_mode": {
    "name": "ipython",
    "version": 3
   },
   "file_extension": ".py",
   "mimetype": "text/x-python",
   "name": "python",
   "nbconvert_exporter": "python",
   "pygments_lexer": "ipython3",
   "version": "3.7.12"
  }
 },
 "nbformat": 4,
 "nbformat_minor": 5
}
