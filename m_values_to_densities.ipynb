{
 "cells": [
  {
   "cell_type": "code",
   "execution_count": 1,
   "id": "9a880ee2-a031-4acf-9d38-02be6837fd59",
   "metadata": {},
   "outputs": [],
   "source": [
    "import networkx as nx"
   ]
  },
  {
   "cell_type": "code",
   "execution_count": 2,
   "id": "e0cec54b-fe71-4bbe-a757-ef0ca9de7c85",
   "metadata": {},
   "outputs": [],
   "source": [
    "dataset='gowalla'"
   ]
  },
  {
   "cell_type": "code",
   "execution_count": 3,
   "id": "fdb77815-923f-44fe-aaef-ccac7c9cf2ba",
   "metadata": {},
   "outputs": [],
   "source": [
    "k=3"
   ]
  },
  {
   "cell_type": "code",
   "execution_count": 4,
   "id": "4a02a78f-3a2a-4286-b64b-037bf31f7481",
   "metadata": {},
   "outputs": [],
   "source": [
    "k_core=nx.read_adjlist(f'k_cores/{dataset}/{k}')"
   ]
  },
  {
   "cell_type": "code",
   "execution_count": 5,
   "id": "0a2676fa-c7bb-471f-ae82-252ae57d1504",
   "metadata": {},
   "outputs": [],
   "source": [
    "import glob"
   ]
  },
  {
   "cell_type": "code",
   "execution_count": 6,
   "id": "d51bba04-b2d2-4f70-86a7-1b53115b8998",
   "metadata": {},
   "outputs": [],
   "source": [
    "import math"
   ]
  },
  {
   "cell_type": "code",
   "execution_count": 7,
   "id": "acc4305a-bbd4-4e36-bce3-b626fb62dbc4",
   "metadata": {},
   "outputs": [],
   "source": [
    "import os"
   ]
  },
  {
   "cell_type": "code",
   "execution_count": 8,
   "id": "269806cf-da13-4b51-bcae-e9846f354eb1",
   "metadata": {},
   "outputs": [],
   "source": [
    "import os.path"
   ]
  },
  {
   "cell_type": "code",
   "execution_count": 9,
   "id": "731ac38b-e9e3-4aa4-80d0-6964e5775213",
   "metadata": {},
   "outputs": [],
   "source": [
    "detected_communities_filepath_list = glob.glob(f'detected_communities/{dataset}/{k}/*')"
   ]
  },
  {
   "cell_type": "code",
   "execution_count": 10,
   "id": "272e6c59-dd2f-4197-9acb-1b12f7ee1a5e",
   "metadata": {},
   "outputs": [],
   "source": [
    "m_values = [\n",
    "    int(string_value)\n",
    "    for string_value in os.listdir(f'detected_communities/{dataset}/{k}')\n",
    "]"
   ]
  },
  {
   "cell_type": "code",
   "execution_count": 11,
   "id": "1c6b346f-39fb-46b2-b24f-026291b0374c",
   "metadata": {},
   "outputs": [],
   "source": [
    "m_values_to_detected_communities = {}\n",
    "\n",
    "for m_value in sorted(m_values):\n",
    "    detected_community = nx.read_adjlist(f'detected_communities/{dataset}/{k}/{m_value}')\n",
    "    if len(detected_community.nodes):\n",
    "        m_values_to_detected_communities[m_value] = detected_community\n",
    "\n",
    "m_values_to_detected_communities[math.inf] = k_core"
   ]
  },
  {
   "cell_type": "code",
   "execution_count": 12,
   "id": "62e9c212-560b-465a-b347-1df33597e5b4",
   "metadata": {},
   "outputs": [
    {
     "data": {
      "text/plain": [
       "{4: <networkx.classes.graph.Graph at 0x7f5b45053290>,\n",
       " 6: <networkx.classes.graph.Graph at 0x7f5b45053350>,\n",
       " 8: <networkx.classes.graph.Graph at 0x7f5b6422e3d0>,\n",
       " 10: <networkx.classes.graph.Graph at 0x7f5b45053450>,\n",
       " 12: <networkx.classes.graph.Graph at 0x7f5b6baed110>,\n",
       " 14: <networkx.classes.graph.Graph at 0x7f5b3fffb190>,\n",
       " 16: <networkx.classes.graph.Graph at 0x7f5b3f545250>,\n",
       " 18: <networkx.classes.graph.Graph at 0x7f5b3e9800d0>,\n",
       " 20: <networkx.classes.graph.Graph at 0x7f5b3dce92d0>,\n",
       " 22: <networkx.classes.graph.Graph at 0x7f5b3cee4e90>,\n",
       " 24: <networkx.classes.graph.Graph at 0x7f5b37fcb1d0>,\n",
       " 26: <networkx.classes.graph.Graph at 0x7f5b37079950>,\n",
       " 28: <networkx.classes.graph.Graph at 0x7f5b35fe76d0>,\n",
       " inf: <networkx.classes.graph.Graph at 0x7f5b6422e690>}"
      ]
     },
     "execution_count": 12,
     "metadata": {},
     "output_type": "execute_result"
    }
   ],
   "source": [
    "m_values_to_detected_communities"
   ]
  },
  {
   "cell_type": "code",
   "execution_count": 13,
   "id": "00323ada-0d72-4e2e-8532-90f30aa4e536",
   "metadata": {},
   "outputs": [],
   "source": [
    "import matplotlib.pyplot as plt"
   ]
  },
  {
   "cell_type": "code",
   "execution_count": 14,
   "id": "1d381a35-36da-466d-a526-417be76a646e",
   "metadata": {},
   "outputs": [
    {
     "data": {
      "text/plain": [
       "{'whiskers': [<matplotlib.lines.Line2D at 0x7f5b1ba68790>,\n",
       "  <matplotlib.lines.Line2D at 0x7f5b19632e50>,\n",
       "  <matplotlib.lines.Line2D at 0x7f5b19657e50>,\n",
       "  <matplotlib.lines.Line2D at 0x7f5b19666210>,\n",
       "  <matplotlib.lines.Line2D at 0x7f5b195f3250>,\n",
       "  <matplotlib.lines.Line2D at 0x7f5b195f35d0>,\n",
       "  <matplotlib.lines.Line2D at 0x7f5b19600650>,\n",
       "  <matplotlib.lines.Line2D at 0x7f5b19600990>,\n",
       "  <matplotlib.lines.Line2D at 0x7f5b1960ea90>,\n",
       "  <matplotlib.lines.Line2D at 0x7f5b1960ed90>,\n",
       "  <matplotlib.lines.Line2D at 0x7f5b1961ae10>,\n",
       "  <matplotlib.lines.Line2D at 0x7f5b196261d0>,\n",
       "  <matplotlib.lines.Line2D at 0x7f5b195b3250>,\n",
       "  <matplotlib.lines.Line2D at 0x7f5b195b3590>,\n",
       "  <matplotlib.lines.Line2D at 0x7f5b195c15d0>,\n",
       "  <matplotlib.lines.Line2D at 0x7f5b195c1910>,\n",
       "  <matplotlib.lines.Line2D at 0x7f5b195cf910>,\n",
       "  <matplotlib.lines.Line2D at 0x7f5b195cfc50>,\n",
       "  <matplotlib.lines.Line2D at 0x7f5b195dcc90>,\n",
       "  <matplotlib.lines.Line2D at 0x7f5b195dc810>,\n",
       "  <matplotlib.lines.Line2D at 0x7f5b195750d0>,\n",
       "  <matplotlib.lines.Line2D at 0x7f5b19575410>,\n",
       "  <matplotlib.lines.Line2D at 0x7f5b19585490>,\n",
       "  <matplotlib.lines.Line2D at 0x7f5b19585790>,\n",
       "  <matplotlib.lines.Line2D at 0x7f5b19590690>,\n",
       "  <matplotlib.lines.Line2D at 0x7f5b195909d0>,\n",
       "  <matplotlib.lines.Line2D at 0x7f5b1959ea50>,\n",
       "  <matplotlib.lines.Line2D at 0x7f5b1959ed90>],\n",
       " 'caps': [<matplotlib.lines.Line2D at 0x7f5b1ba15690>,\n",
       "  <matplotlib.lines.Line2D at 0x7f5b19657490>,\n",
       "  <matplotlib.lines.Line2D at 0x7f5b19666510>,\n",
       "  <matplotlib.lines.Line2D at 0x7f5b19666810>,\n",
       "  <matplotlib.lines.Line2D at 0x7f5b195f38d0>,\n",
       "  <matplotlib.lines.Line2D at 0x7f5b195f3c50>,\n",
       "  <matplotlib.lines.Line2D at 0x7f5b19600cd0>,\n",
       "  <matplotlib.lines.Line2D at 0x7f5b1960e090>,\n",
       "  <matplotlib.lines.Line2D at 0x7f5b1961a150>,\n",
       "  <matplotlib.lines.Line2D at 0x7f5b1961a450>,\n",
       "  <matplotlib.lines.Line2D at 0x7f5b19626510>,\n",
       "  <matplotlib.lines.Line2D at 0x7f5b19626810>,\n",
       "  <matplotlib.lines.Line2D at 0x7f5b195b3890>,\n",
       "  <matplotlib.lines.Line2D at 0x7f5b195b3bd0>,\n",
       "  <matplotlib.lines.Line2D at 0x7f5b195c1c50>,\n",
       "  <matplotlib.lines.Line2D at 0x7f5b195c1f90>,\n",
       "  <matplotlib.lines.Line2D at 0x7f5b195cff90>,\n",
       "  <matplotlib.lines.Line2D at 0x7f5b195dc350>,\n",
       "  <matplotlib.lines.Line2D at 0x7f5b195ea390>,\n",
       "  <matplotlib.lines.Line2D at 0x7f5b195ea690>,\n",
       "  <matplotlib.lines.Line2D at 0x7f5b19575710>,\n",
       "  <matplotlib.lines.Line2D at 0x7f5b19575a50>,\n",
       "  <matplotlib.lines.Line2D at 0x7f5b19585ad0>,\n",
       "  <matplotlib.lines.Line2D at 0x7f5b19585e10>,\n",
       "  <matplotlib.lines.Line2D at 0x7f5b19590d10>,\n",
       "  <matplotlib.lines.Line2D at 0x7f5b1959e0d0>,\n",
       "  <matplotlib.lines.Line2D at 0x7f5b195ac150>,\n",
       "  <matplotlib.lines.Line2D at 0x7f5b195ac490>],\n",
       " 'boxes': [<matplotlib.lines.Line2D at 0x7f5b1bb97390>,\n",
       "  <matplotlib.lines.Line2D at 0x7f5b19657b10>,\n",
       "  <matplotlib.lines.Line2D at 0x7f5b19666e90>,\n",
       "  <matplotlib.lines.Line2D at 0x7f5b19600350>,\n",
       "  <matplotlib.lines.Line2D at 0x7f5b1960e710>,\n",
       "  <matplotlib.lines.Line2D at 0x7f5b1961aad0>,\n",
       "  <matplotlib.lines.Line2D at 0x7f5b19626e90>,\n",
       "  <matplotlib.lines.Line2D at 0x7f5b195c12d0>,\n",
       "  <matplotlib.lines.Line2D at 0x7f5b195cf610>,\n",
       "  <matplotlib.lines.Line2D at 0x7f5b195dc950>,\n",
       "  <matplotlib.lines.Line2D at 0x7f5b195ead10>,\n",
       "  <matplotlib.lines.Line2D at 0x7f5b19585150>,\n",
       "  <matplotlib.lines.Line2D at 0x7f5b19590390>,\n",
       "  <matplotlib.lines.Line2D at 0x7f5b1959e710>],\n",
       " 'medians': [<matplotlib.lines.Line2D at 0x7f5b196577d0>,\n",
       "  <matplotlib.lines.Line2D at 0x7f5b19666b50>,\n",
       "  <matplotlib.lines.Line2D at 0x7f5b195f3f90>,\n",
       "  <matplotlib.lines.Line2D at 0x7f5b1960e3d0>,\n",
       "  <matplotlib.lines.Line2D at 0x7f5b1961a750>,\n",
       "  <matplotlib.lines.Line2D at 0x7f5b19626b50>,\n",
       "  <matplotlib.lines.Line2D at 0x7f5b195b3f10>,\n",
       "  <matplotlib.lines.Line2D at 0x7f5b195cf350>,\n",
       "  <matplotlib.lines.Line2D at 0x7f5b195dc650>,\n",
       "  <matplotlib.lines.Line2D at 0x7f5b195ea9d0>,\n",
       "  <matplotlib.lines.Line2D at 0x7f5b19575d90>,\n",
       "  <matplotlib.lines.Line2D at 0x7f5b1ba965d0>,\n",
       "  <matplotlib.lines.Line2D at 0x7f5b1959e410>,\n",
       "  <matplotlib.lines.Line2D at 0x7f5b195ac790>],\n",
       " 'fliers': [],\n",
       " 'means': []}"
      ]
     },
     "execution_count": 14,
     "metadata": {},
     "output_type": "execute_result"
    },
    {
     "data": {
      "image/png": "[encoded data removed]",
      "text/plain": [
       "<Figure size 432x288 with 1 Axes>"
      ]
     },
     "metadata": {
      "needs_background": "light"
     },
     "output_type": "display_data"
    }
   ],
   "source": [
    "figure, axes=plt.subplots()\n",
    "\n",
    "axes.boxplot(\n",
    "    [\n",
    "        [\n",
    "            nx.density(\n",
    "                graph.subgraph(connected_component)\n",
    "            ) for connected_component in nx.connected_components(graph)\n",
    "        ]\n",
    "        for graph in m_values_to_detected_communities.values()\n",
    "    ],\n",
    "    labels=m_values_to_detected_communities.keys(),\n",
    "    sym=''\n",
    ")"
   ]
  },
  {
   "cell_type": "code",
   "execution_count": 15,
   "id": "4c065fff-9c88-4e77-abf5-d989fbd1e414",
   "metadata": {},
   "outputs": [],
   "source": [
    "figure.savefig(f'{dataset}-{k}-m_values_to_densities.pdf')"
   ]
  }
 ],
 "metadata": {
  "kernelspec": {
   "display_name": "Python 3 (ipykernel)",
   "language": "python",
   "name": "python3"
  },
  "language_info": {
   "codemirror_mode": {
    "name": "ipython",
    "version": 3
   },
   "file_extension": ".py",
   "mimetype": "text/x-python",
   "name": "python",
   "nbconvert_exporter": "python",
   "pygments_lexer": "ipython3",
   "version": "3.7.12"
  }
 },
 "nbformat": 4,
 "nbformat_minor": 5
}
