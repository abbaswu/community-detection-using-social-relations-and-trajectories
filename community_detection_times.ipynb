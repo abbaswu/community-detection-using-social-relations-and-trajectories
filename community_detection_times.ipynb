{
 "cells": [
  {
   "cell_type": "code",
   "execution_count": 1,
   "id": "64664c64-641b-405d-9c0e-fdcbd09e2a56",
   "metadata": {},
   "outputs": [],
   "source": [
    "dataset='brightkite'"
   ]
  },
  {
   "cell_type": "code",
   "execution_count": 2,
   "id": "aef9a9b6-ac59-4263-b41e-a1542fd7f8c3",
   "metadata": {},
   "outputs": [],
   "source": [
    "import glob"
   ]
  },
  {
   "cell_type": "code",
   "execution_count": 3,
   "id": "e59eebb3-3dfa-42a9-af42-aa68f713738f",
   "metadata": {},
   "outputs": [],
   "source": [
    "import math"
   ]
  },
  {
   "cell_type": "code",
   "execution_count": 4,
   "id": "7f062380-6057-48c3-9d7b-be87569dfea8",
   "metadata": {},
   "outputs": [],
   "source": [
    "import os"
   ]
  },
  {
   "cell_type": "code",
   "execution_count": 5,
   "id": "c451bd65-d73d-48b7-82fd-52bb3d8a9fab",
   "metadata": {},
   "outputs": [],
   "source": [
    "import os.path"
   ]
  },
  {
   "cell_type": "code",
   "execution_count": 6,
   "id": "bf5b9f88-1a0c-4635-9607-5950b8a4cd6a",
   "metadata": {},
   "outputs": [],
   "source": [
    "import networkx as nx"
   ]
  },
  {
   "cell_type": "code",
   "execution_count": 7,
   "id": "88277edb-d127-431b-8dc0-0114e3fd59fd",
   "metadata": {},
   "outputs": [],
   "source": [
    "import numpy as np"
   ]
  },
  {
   "cell_type": "code",
   "execution_count": 8,
   "id": "78d888d7-20b4-4415-ae06-cdc67d4ef444",
   "metadata": {},
   "outputs": [],
   "source": [
    "import json"
   ]
  },
  {
   "cell_type": "code",
   "execution_count": 9,
   "id": "c74b0604-cb83-48b8-ac7f-3171490716cc",
   "metadata": {},
   "outputs": [],
   "source": [
    "k_values = sorted([\n",
    "    int(string_value)\n",
    "    for string_value in os.listdir(f'detected_communities/{dataset}')\n",
    "])"
   ]
  },
  {
   "cell_type": "code",
   "execution_count": 10,
   "id": "d920b1d2-33d1-462f-a127-6c02e602402d",
   "metadata": {},
   "outputs": [],
   "source": [
    "k_values_to_m_values_to_community_detection_times = {}\n",
    "\n",
    "for k in k_values:\n",
    "    m_values = sorted([\n",
    "        int(string_value)\n",
    "        for string_value in os.listdir(f'detected_communities/{dataset}/{k}')\n",
    "    ])\n",
    "    \n",
    "    m_values_to_community_detection_times = {}\n",
    "\n",
    "    for m_value in sorted(m_values):\n",
    "        detected_community = nx.read_adjlist(f'detected_communities/{dataset}/{k}/{m_value}')\n",
    "        if len(detected_community.nodes):\n",
    "            with open(f'community_detection_times/{dataset}/{k}/{m_value}', 'r') as fp:\n",
    "                j = json.load(fp)\n",
    "                m_values_to_community_detection_times[m_value] = np.mean(j) / 1e6\n",
    "    \n",
    "    k_values_to_m_values_to_community_detection_times[k] = m_values_to_community_detection_times"
   ]
  },
  {
   "cell_type": "code",
   "execution_count": 11,
   "id": "0e0d9496-aadd-4a34-b236-fc2c338bddb2",
   "metadata": {},
   "outputs": [],
   "source": [
    "import matplotlib.pyplot as plt"
   ]
  },
  {
   "cell_type": "code",
   "execution_count": 12,
   "id": "0382f07c-0022-49db-ac21-d6d5ea47063b",
   "metadata": {},
   "outputs": [
    {
     "data": {
      "text/plain": [
       "<matplotlib.legend.Legend at 0x7fd58d865d50>"
      ]
     },
     "execution_count": 12,
     "metadata": {},
     "output_type": "execute_result"
    },
    {
     "data": {
      "image/png": "[encoded data removed]",
      "text/plain": [
       "<Figure size 432x288 with 1 Axes>"
      ]
     },
     "metadata": {
      "needs_background": "light"
     },
     "output_type": "display_data"
    }
   ],
   "source": [
    "figure, axes=plt.subplots()\n",
    "\n",
    "for k, m_values_to_community_detection_times in k_values_to_m_values_to_community_detection_times.items():\n",
    "    axes.plot(\n",
    "        m_values_to_community_detection_times.keys(),\n",
    "        m_values_to_community_detection_times.values(),\n",
    "        label=f'k = {k}'\n",
    "    )\n",
    "\n",
    "axes.set_ylim(\n",
    "    0,\n",
    "    1.25 * max(\n",
    "        (max(m_values_to_community_detection_times.values()) for m_values_to_community_detection_times in k_values_to_m_values_to_community_detection_times.values())\n",
    "    )\n",
    ")\n",
    "\n",
    "axes.legend()"
   ]
  },
  {
   "cell_type": "code",
   "execution_count": 13,
   "id": "78bca258-87aa-48f6-8c7a-b5cd06d892b8",
   "metadata": {},
   "outputs": [],
   "source": [
    "figure.savefig(f'{dataset}-community_detection_times.pdf')"
   ]
  },
  {
   "cell_type": "code",
   "execution_count": null,
   "id": "d2567513",
   "metadata": {},
   "outputs": [],
   "source": []
  }
 ],
 "metadata": {
  "kernelspec": {
   "display_name": "Python 3 (ipykernel)",
   "language": "python",
   "name": "python3"
  },
  "language_info": {
   "codemirror_mode": {
    "name": "ipython",
    "version": 3
   },
   "file_extension": ".py",
   "mimetype": "text/x-python",
   "name": "python",
   "nbconvert_exporter": "python",
   "pygments_lexer": "ipython3",
   "version": "3.7.12"
  }
 },
 "nbformat": 4,
 "nbformat_minor": 5
}
