{
 "cells": [
  {
   "cell_type": "code",
   "execution_count": 1,
   "id": "3db7178d-e60b-4c71-9824-d5e4550d1ccd",
   "metadata": {},
   "outputs": [],
   "source": [
    "import json"
   ]
  },
  {
   "cell_type": "code",
   "execution_count": 2,
   "id": "b8d3fcf1-978e-43f2-ba7b-459a6be57374",
   "metadata": {},
   "outputs": [],
   "source": [
    "dataset='brightkite'"
   ]
  },
  {
   "cell_type": "code",
   "execution_count": 3,
   "id": "6a4357c3-6fe1-4a30-9258-53e7aa949f2a",
   "metadata": {},
   "outputs": [],
   "source": [
    "import numpy as np"
   ]
  },
  {
   "cell_type": "code",
   "execution_count": 4,
   "id": "454dd703-d0d1-42d0-b305-d4f94ed8798d",
   "metadata": {},
   "outputs": [],
   "source": [
    "import pandas as pd"
   ]
  },
  {
   "cell_type": "code",
   "execution_count": 5,
   "id": "0ddf407e-927d-40a9-8e56-f9a91d614d4c",
   "metadata": {},
   "outputs": [],
   "source": [
    "from scipy.stats import gmean"
   ]
  },
  {
   "cell_type": "code",
   "execution_count": 6,
   "id": "df35fc6a-07c2-4af3-8e66-2f0b44e41b6d",
   "metadata": {},
   "outputs": [],
   "source": [
    "with open(f'trajectory_similarity_runtimes/{dataset}', 'r') as fp:\n",
    "    trajectory_similarity_runtime_data = json.load(fp)"
   ]
  },
  {
   "cell_type": "code",
   "execution_count": 7,
   "id": "717db7d1-dda1-4da9-9c46-210ed6d17b8e",
   "metadata": {},
   "outputs": [],
   "source": [
    "data = {}\n",
    "\n",
    "trajectory_similarity_algorithms = data['Trajectory Similarity Algorithm'] = []\n",
    "average_trajectory_similarity_calculation_times = data['Average Trajectory Similarity Calculation Time (Microseconds)'] = []\n",
    "\n",
    "trajectory_similarity_algorithms.append('OverallSimilarity')\n",
    "average_trajectory_similarity_calculation_times.append(\n",
    "    np.median(trajectory_similarity_runtime_data['overall_similarity_runtimes_microseconds']) / trajectory_similarity_runtime_data['number_of_calculations']\n",
    ")\n",
    "\n",
    "trajectory_similarity_algorithms.append('Spatiotemporal LCSS')\n",
    "average_trajectory_similarity_calculation_times.append(\n",
    "    np.median(trajectory_similarity_runtime_data['spatiotemporal_lcss_runtimes_microseconds']) / trajectory_similarity_runtime_data['number_of_calculations']\n",
    ")\n",
    "\n",
    "trajectory_similarity_algorithms.append('STLC')\n",
    "average_trajectory_similarity_calculation_times.append(\n",
    "    np.median(trajectory_similarity_runtime_data['stlc_runtimes_microseconds']) / trajectory_similarity_runtime_data['number_of_calculations']\n",
    ")\n",
    "\n",
    "dataframe = pd.DataFrame(data)"
   ]
  },
  {
   "cell_type": "code",
   "execution_count": 8,
   "id": "43471d93-57ce-4b46-85f5-fd5483f4d9f7",
   "metadata": {},
   "outputs": [
    {
     "data": {
      "text/html": [
       "<div>\n",
       "<style scoped>\n",
       "    .dataframe tbody tr th:only-of-type {\n",
       "        vertical-align: middle;\n",
       "    }\n",
       "\n",
       "    .dataframe tbody tr th {\n",
       "        vertical-align: top;\n",
       "    }\n",
       "\n",
       "    .dataframe thead th {\n",
       "        text-align: right;\n",
       "    }\n",
       "</style>\n",
       "<table border=\"1\" class=\"dataframe\">\n",
       "  <thead>\n",
       "    <tr style=\"text-align: right;\">\n",
       "      <th></th>\n",
       "      <th>Trajectory Similarity Algorithm</th>\n",
       "      <th>Average Trajectory Similarity Calculation Time (Microseconds)</th>\n",
       "    </tr>\n",
       "  </thead>\n",
       "  <tbody>\n",
       "    <tr>\n",
       "      <th>0</th>\n",
       "      <td>OverallSimilarity</td>\n",
       "      <td>30.794757</td>\n",
       "    </tr>\n",
       "    <tr>\n",
       "      <th>1</th>\n",
       "      <td>Spatiotemporal LCSS</td>\n",
       "      <td>109.777306</td>\n",
       "    </tr>\n",
       "    <tr>\n",
       "      <th>2</th>\n",
       "      <td>STLC</td>\n",
       "      <td>6331.367011</td>\n",
       "    </tr>\n",
       "  </tbody>\n",
       "</table>\n",
       "</div>"
      ],
      "text/plain": [
       "  Trajectory Similarity Algorithm  \\\n",
       "0               OverallSimilarity   \n",
       "1             Spatiotemporal LCSS   \n",
       "2                            STLC   \n",
       "\n",
       "   Average Trajectory Similarity Calculation Time (Microseconds)  \n",
       "0                                          30.794757              \n",
       "1                                         109.777306              \n",
       "2                                        6331.367011              "
      ]
     },
     "execution_count": 8,
     "metadata": {},
     "output_type": "execute_result"
    }
   ],
   "source": [
    "dataframe"
   ]
  },
  {
   "cell_type": "code",
   "execution_count": 9,
   "id": "85e34b87-ad5d-4036-aa3f-c2fc5d34aa48",
   "metadata": {},
   "outputs": [],
   "source": [
    "mean_trajectory_length = round(gmean(trajectory_similarity_runtime_data[\"lengths_of_trajectories\"]))\n",
    "\n",
    "latex = dataframe.to_latex(\n",
    "    formatters={\n",
    "        'Average Trajectory Similarity Calculation Time (Microseconds)': '{:,.2f}'.format\n",
    "    },\n",
    "    caption=f'Average Trajectory Similarity Calculation Time for {dataset} Dataset, mean trajectory length {mean_trajectory_length}',\n",
    "    label=f'table:average_trajectory_similarity_calculation_time_for_{dataset}_dataset',\n",
    "    index=False\n",
    ")"
   ]
  },
  {
   "cell_type": "code",
   "execution_count": 10,
   "id": "1637b100-e414-4bb3-af64-afe0563ff51c",
   "metadata": {},
   "outputs": [
    {
     "name": "stdout",
     "output_type": "stream",
     "text": [
      "\\begin{table}\n",
      "\\centering\n",
      "\\caption{Average Trajectory Similarity Calculation Time for brightkite Dataset, mean trajectory length 76}\n",
      "\\label{table:average_trajectory_similarity_calculation_time_for_brightkite_dataset}\n",
      "\\begin{tabular}{lr}\n",
      "\\toprule\n",
      "Trajectory Similarity Algorithm & Average Trajectory Similarity Calculation Time (Microseconds) \\\\\n",
      "\\midrule\n",
      "              OverallSimilarity &                                              30.79 \\\\\n",
      "            Spatiotemporal LCSS &                                             109.78 \\\\\n",
      "                           STLC &                                           6,331.37 \\\\\n",
      "\\bottomrule\n",
      "\\end{tabular}\n",
      "\\end{table}\n",
      "\n"
     ]
    }
   ],
   "source": [
    "print(latex)"
   ]
  },
  {
   "cell_type": "code",
   "execution_count": null,
   "id": "76371643-94ba-4301-ba20-8ec73ee3b99a",
   "metadata": {},
   "outputs": [],
   "source": []
  }
 ],
 "metadata": {
  "kernelspec": {
   "display_name": "Python 3 (ipykernel)",
   "language": "python",
   "name": "python3"
  },
  "language_info": {
   "codemirror_mode": {
    "name": "ipython",
    "version": 3
   },
   "file_extension": ".py",
   "mimetype": "text/x-python",
   "name": "python",
   "nbconvert_exporter": "python",
   "pygments_lexer": "ipython3",
   "version": "3.7.12"
  }
 },
 "nbformat": 4,
 "nbformat_minor": 5
}
