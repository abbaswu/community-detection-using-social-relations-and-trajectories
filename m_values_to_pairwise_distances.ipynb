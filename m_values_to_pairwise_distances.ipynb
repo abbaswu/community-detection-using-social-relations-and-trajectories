{
 "cells": [
  {
   "cell_type": "code",
   "execution_count": 1,
   "id": "2107b3be",
   "metadata": {},
   "outputs": [],
   "source": [
    "import networkx as nx"
   ]
  },
  {
   "cell_type": "code",
   "execution_count": 2,
   "id": "8643c0cc",
   "metadata": {},
   "outputs": [],
   "source": [
    "from graph_distance import GraphDistance"
   ]
  },
  {
   "cell_type": "code",
   "execution_count": 3,
   "id": "c6e6f694",
   "metadata": {},
   "outputs": [],
   "source": [
    "dataset='brightkite'"
   ]
  },
  {
   "cell_type": "code",
   "execution_count": 4,
   "id": "a24e76b3",
   "metadata": {},
   "outputs": [],
   "source": [
    "k=3"
   ]
  },
  {
   "cell_type": "code",
   "execution_count": 5,
   "id": "71282602",
   "metadata": {},
   "outputs": [],
   "source": [
    "k_core_path=f'k_cores/{dataset}/{k}'"
   ]
  },
  {
   "cell_type": "code",
   "execution_count": 6,
   "id": "31dadfc9",
   "metadata": {},
   "outputs": [],
   "source": [
    "import math"
   ]
  },
  {
   "cell_type": "code",
   "execution_count": 7,
   "id": "52413161",
   "metadata": {},
   "outputs": [],
   "source": [
    "import glob"
   ]
  },
  {
   "cell_type": "code",
   "execution_count": 8,
   "id": "51c8ea41",
   "metadata": {},
   "outputs": [],
   "source": [
    "import os"
   ]
  },
  {
   "cell_type": "code",
   "execution_count": 9,
   "id": "9033e182",
   "metadata": {},
   "outputs": [],
   "source": [
    "import os.path"
   ]
  },
  {
   "cell_type": "code",
   "execution_count": 10,
   "id": "4fb17366",
   "metadata": {},
   "outputs": [],
   "source": [
    "m_values = [\n",
    "    int(string_value)\n",
    "    for string_value in os.listdir(f'detected_communities/{dataset}/{k}')\n",
    "]"
   ]
  },
  {
   "cell_type": "code",
   "execution_count": 11,
   "id": "359fb00e",
   "metadata": {},
   "outputs": [],
   "source": [
    "m_values_to_detected_community_paths = {}\n",
    "\n",
    "for m_value in sorted(m_values):\n",
    "    detected_community_path = f'detected_communities/{dataset}/{k}/{m_value}'\n",
    "    detected_community = nx.read_adjlist(detected_community_path)\n",
    "    if len(detected_community.nodes):\n",
    "        m_values_to_detected_community_paths[m_value] = detected_community_path"
   ]
  },
  {
   "cell_type": "code",
   "execution_count": 12,
   "id": "2e512334",
   "metadata": {},
   "outputs": [],
   "source": [
    "m_values_to_detected_community_paths[math.inf] = k_core_path"
   ]
  },
  {
   "cell_type": "code",
   "execution_count": 13,
   "id": "ac179392",
   "metadata": {},
   "outputs": [],
   "source": [
    "import matplotlib.pyplot as plt"
   ]
  },
  {
   "cell_type": "code",
   "execution_count": 14,
   "id": "14d03042",
   "metadata": {},
   "outputs": [],
   "source": [
    "import array"
   ]
  },
  {
   "cell_type": "code",
   "execution_count": 15,
   "id": "cfb40925",
   "metadata": {},
   "outputs": [],
   "source": [
    "import itertools"
   ]
  },
  {
   "cell_type": "code",
   "execution_count": 16,
   "id": "3c950361",
   "metadata": {},
   "outputs": [],
   "source": [
    "import more_itertools"
   ]
  },
  {
   "cell_type": "code",
   "execution_count": 17,
   "id": "395aa85b",
   "metadata": {},
   "outputs": [],
   "source": [
    "m_values_to_pairwise_distances = {\n",
    "    m_value: GraphDistance(detected_community_path)\n",
    "    for m_value, detected_community_path\n",
    "    in m_values_to_detected_community_paths.items()\n",
    "}"
   ]
  },
  {
   "cell_type": "code",
   "execution_count": 18,
   "id": "d6947e2d",
   "metadata": {},
   "outputs": [],
   "source": [
    "import numpy as np"
   ]
  },
  {
   "cell_type": "code",
   "execution_count": 19,
   "id": "2a35e5db",
   "metadata": {},
   "outputs": [],
   "source": [
    "for m_value in m_values_to_pairwise_distances:\n",
    "    m_values_to_pairwise_distances[m_value] = np.array(m_values_to_pairwise_distances[m_value], copy=False)"
   ]
  },
  {
   "cell_type": "code",
   "execution_count": 20,
   "id": "d4546313",
   "metadata": {},
   "outputs": [
    {
     "data": {
      "text/plain": [
       "{'whiskers': [<matplotlib.lines.Line2D at 0x7f0040e9bd90>,\n",
       "  <matplotlib.lines.Line2D at 0x7f0040e3b150>,\n",
       "  <matplotlib.lines.Line2D at 0x7f0040e49210>,\n",
       "  <matplotlib.lines.Line2D at 0x7f0040e49550>,\n",
       "  <matplotlib.lines.Line2D at 0x7f0040e55590>,\n",
       "  <matplotlib.lines.Line2D at 0x7f0040e55910>,\n",
       "  <matplotlib.lines.Line2D at 0x7f0040e619d0>,\n",
       "  <matplotlib.lines.Line2D at 0x7f0040e61d10>,\n",
       "  <matplotlib.lines.Line2D at 0x7f0040deee10>,\n",
       "  <matplotlib.lines.Line2D at 0x7f0040dfa150>,\n",
       "  <matplotlib.lines.Line2D at 0x7f0040e091d0>,\n",
       "  <matplotlib.lines.Line2D at 0x7f0040e09510>,\n",
       "  <matplotlib.lines.Line2D at 0x7f0040e16590>,\n",
       "  <matplotlib.lines.Line2D at 0x7f0040e168d0>,\n",
       "  <matplotlib.lines.Line2D at 0x7f0040e23950>,\n",
       "  <matplotlib.lines.Line2D at 0x7f0040e23c90>,\n",
       "  <matplotlib.lines.Line2D at 0x7f0040db1c90>,\n",
       "  <matplotlib.lines.Line2D at 0x7f0040dbd050>,\n",
       "  <matplotlib.lines.Line2D at 0x7f0040dbde10>,\n",
       "  <matplotlib.lines.Line2D at 0x7f0040dcb190>,\n",
       "  <matplotlib.lines.Line2D at 0x7f0040dda210>,\n",
       "  <matplotlib.lines.Line2D at 0x7f0040dda550>,\n",
       "  <matplotlib.lines.Line2D at 0x7f0040de55d0>,\n",
       "  <matplotlib.lines.Line2D at 0x7f0040de5910>,\n",
       "  <matplotlib.lines.Line2D at 0x7f0040d73990>,\n",
       "  <matplotlib.lines.Line2D at 0x7f0040d73cd0>,\n",
       "  <matplotlib.lines.Line2D at 0x7f0040d81d50>,\n",
       "  <matplotlib.lines.Line2D at 0x7f0040d8e0d0>],\n",
       " 'caps': [<matplotlib.lines.Line2D at 0x7f0040e3b490>,\n",
       "  <matplotlib.lines.Line2D at 0x7f0040e3b7d0>,\n",
       "  <matplotlib.lines.Line2D at 0x7f0040e49850>,\n",
       "  <matplotlib.lines.Line2D at 0x7f0040e49b90>,\n",
       "  <matplotlib.lines.Line2D at 0x7f0040e55c50>,\n",
       "  <matplotlib.lines.Line2D at 0x7f0040e61050>,\n",
       "  <matplotlib.lines.Line2D at 0x7f0040dee090>,\n",
       "  <matplotlib.lines.Line2D at 0x7f0040dee3d0>,\n",
       "  <matplotlib.lines.Line2D at 0x7f0040dfa490>,\n",
       "  <matplotlib.lines.Line2D at 0x7f0040dfa790>,\n",
       "  <matplotlib.lines.Line2D at 0x7f0040e09850>,\n",
       "  <matplotlib.lines.Line2D at 0x7f0040e09b90>,\n",
       "  <matplotlib.lines.Line2D at 0x7f0040e16c10>,\n",
       "  <matplotlib.lines.Line2D at 0x7f0040e16f50>,\n",
       "  <matplotlib.lines.Line2D at 0x7f0040db1050>,\n",
       "  <matplotlib.lines.Line2D at 0x7f0040db1350>,\n",
       "  <matplotlib.lines.Line2D at 0x7f0044bb2e90>,\n",
       "  <matplotlib.lines.Line2D at 0x7f0040dbd490>,\n",
       "  <matplotlib.lines.Line2D at 0x7f0040dcb4d0>,\n",
       "  <matplotlib.lines.Line2D at 0x7f0040dcb810>,\n",
       "  <matplotlib.lines.Line2D at 0x7f0040dda890>,\n",
       "  <matplotlib.lines.Line2D at 0x7f0040ddabd0>,\n",
       "  <matplotlib.lines.Line2D at 0x7f0040de5c50>,\n",
       "  <matplotlib.lines.Line2D at 0x7f0040de5f90>,\n",
       "  <matplotlib.lines.Line2D at 0x7f0040d81050>,\n",
       "  <matplotlib.lines.Line2D at 0x7f0040d81390>,\n",
       "  <matplotlib.lines.Line2D at 0x7f0040d8e410>,\n",
       "  <matplotlib.lines.Line2D at 0x7f0040d8e750>],\n",
       " 'boxes': [<matplotlib.lines.Line2D at 0x7f0044dc85d0>,\n",
       "  <matplotlib.lines.Line2D at 0x7f0040e3be90>,\n",
       "  <matplotlib.lines.Line2D at 0x7f0040e55250>,\n",
       "  <matplotlib.lines.Line2D at 0x7f0040e61690>,\n",
       "  <matplotlib.lines.Line2D at 0x7f0040deea90>,\n",
       "  <matplotlib.lines.Line2D at 0x7f0040dfae50>,\n",
       "  <matplotlib.lines.Line2D at 0x7f0040e16250>,\n",
       "  <matplotlib.lines.Line2D at 0x7f0040e23610>,\n",
       "  <matplotlib.lines.Line2D at 0x7f0040db1990>,\n",
       "  <matplotlib.lines.Line2D at 0x7f0040dbdad0>,\n",
       "  <matplotlib.lines.Line2D at 0x7f0040dcbe90>,\n",
       "  <matplotlib.lines.Line2D at 0x7f0040de5290>,\n",
       "  <matplotlib.lines.Line2D at 0x7f0040d73650>,\n",
       "  <matplotlib.lines.Line2D at 0x7f0040d81a10>],\n",
       " 'medians': [<matplotlib.lines.Line2D at 0x7f0040e3bb50>,\n",
       "  <matplotlib.lines.Line2D at 0x7f0040e49ed0>,\n",
       "  <matplotlib.lines.Line2D at 0x7f0040e61350>,\n",
       "  <matplotlib.lines.Line2D at 0x7f0040dee710>,\n",
       "  <matplotlib.lines.Line2D at 0x7f0040dfaad0>,\n",
       "  <matplotlib.lines.Line2D at 0x7f0040e09ed0>,\n",
       "  <matplotlib.lines.Line2D at 0x7f0040e232d0>,\n",
       "  <matplotlib.lines.Line2D at 0x7f0040db1690>,\n",
       "  <matplotlib.lines.Line2D at 0x7f0040dbd7d0>,\n",
       "  <matplotlib.lines.Line2D at 0x7f0040dcbb50>,\n",
       "  <matplotlib.lines.Line2D at 0x7f0040ddaf10>,\n",
       "  <matplotlib.lines.Line2D at 0x7f0040d73310>,\n",
       "  <matplotlib.lines.Line2D at 0x7f0040d816d0>,\n",
       "  <matplotlib.lines.Line2D at 0x7f0040d8ea90>],\n",
       " 'fliers': [],\n",
       " 'means': []}"
      ]
     },
     "execution_count": 20,
     "metadata": {},
     "output_type": "execute_result"
    },
    {
     "data": {
      "image/png": "[encoded data removed]",
      "text/plain": [
       "<Figure size 432x288 with 1 Axes>"
      ]
     },
     "metadata": {
      "needs_background": "light"
     },
     "output_type": "display_data"
    }
   ],
   "source": [
    "figure, axes=plt.subplots()\n",
    "\n",
    "axes.boxplot(\n",
    "    m_values_to_pairwise_distances.values(),\n",
    "    labels=m_values_to_pairwise_distances.keys(),\n",
    "    sym=''\n",
    ")"
   ]
  },
  {
   "cell_type": "code",
   "execution_count": 21,
   "id": "7485a5ee",
   "metadata": {},
   "outputs": [],
   "source": [
    "figure.savefig(f'{dataset}-{k}-m_values_to_pairwise_distances.pdf')"
   ]
  },
  {
   "cell_type": "code",
   "execution_count": null,
   "id": "d1c422d5",
   "metadata": {},
   "outputs": [],
   "source": []
  }
 ],
 "metadata": {
  "kernelspec": {
   "display_name": "Python 3 (ipykernel)",
   "language": "python",
   "name": "python3"
  },
  "language_info": {
   "codemirror_mode": {
    "name": "ipython",
    "version": 3
   },
   "file_extension": ".py",
   "mimetype": "text/x-python",
   "name": "python",
   "nbconvert_exporter": "python",
   "pygments_lexer": "ipython3",
   "version": "3.7.12"
  }
 },
 "nbformat": 4,
 "nbformat_minor": 5
}
